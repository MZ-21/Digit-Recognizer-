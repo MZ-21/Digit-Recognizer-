{
 "cells": [
  {
   "cell_type": "code",
   "execution_count": 1,
   "id": "4abbb299",
   "metadata": {
    "_cell_guid": "b1076dfc-b9ad-4769-8c92-a6c4dae69d19",
    "_uuid": "8f2839f25d086af736a60e9eeb907d3b93b6e0e5",
    "execution": {
     "iopub.execute_input": "2023-11-18T19:57:30.415814Z",
     "iopub.status.busy": "2023-11-18T19:57:30.415311Z",
     "iopub.status.idle": "2023-11-18T19:57:30.834880Z",
     "shell.execute_reply": "2023-11-18T19:57:30.833728Z"
    },
    "papermill": {
     "duration": 0.429479,
     "end_time": "2023-11-18T19:57:30.837741",
     "exception": false,
     "start_time": "2023-11-18T19:57:30.408262",
     "status": "completed"
    },
    "tags": []
   },
   "outputs": [],
   "source": [
    "import numpy as np # linear algebra\n",
    "import pandas as pd #reading data\n",
    "from matplotlib import pyplot as plt\n"
   ]
  },
  {
   "cell_type": "code",
   "execution_count": 2,
   "id": "2996404d",
   "metadata": {
    "execution": {
     "iopub.execute_input": "2023-11-18T19:57:30.850849Z",
     "iopub.status.busy": "2023-11-18T19:57:30.850281Z",
     "iopub.status.idle": "2023-11-18T19:57:34.935610Z",
     "shell.execute_reply": "2023-11-18T19:57:34.934647Z"
    },
    "papermill": {
     "duration": 4.094124,
     "end_time": "2023-11-18T19:57:34.938540",
     "exception": false,
     "start_time": "2023-11-18T19:57:30.844416",
     "status": "completed"
    },
    "tags": []
   },
   "outputs": [],
   "source": [
    "#reading data\n",
    "data = pd.read_csv('/kaggle/input/digit-recognizer/train.csv')"
   ]
  },
  {
   "cell_type": "code",
   "execution_count": 3,
   "id": "15af1351",
   "metadata": {
    "execution": {
     "iopub.execute_input": "2023-11-18T19:57:34.949252Z",
     "iopub.status.busy": "2023-11-18T19:57:34.948859Z",
     "iopub.status.idle": "2023-11-18T19:57:34.978975Z",
     "shell.execute_reply": "2023-11-18T19:57:34.977844Z"
    },
    "papermill": {
     "duration": 0.038192,
     "end_time": "2023-11-18T19:57:34.981406",
     "exception": false,
     "start_time": "2023-11-18T19:57:34.943214",
     "status": "completed"
    },
    "tags": []
   },
   "outputs": [
    {
     "data": {
      "text/html": [
       "<div>\n",
       "<style scoped>\n",
       "    .dataframe tbody tr th:only-of-type {\n",
       "        vertical-align: middle;\n",
       "    }\n",
       "\n",
       "    .dataframe tbody tr th {\n",
       "        vertical-align: top;\n",
       "    }\n",
       "\n",
       "    .dataframe thead th {\n",
       "        text-align: right;\n",
       "    }\n",
       "</style>\n",
       "<table border=\"1\" class=\"dataframe\">\n",
       "  <thead>\n",
       "    <tr style=\"text-align: right;\">\n",
       "      <th></th>\n",
       "      <th>label</th>\n",
       "      <th>pixel0</th>\n",
       "      <th>pixel1</th>\n",
       "      <th>pixel2</th>\n",
       "      <th>pixel3</th>\n",
       "      <th>pixel4</th>\n",
       "      <th>pixel5</th>\n",
       "      <th>pixel6</th>\n",
       "      <th>pixel7</th>\n",
       "      <th>pixel8</th>\n",
       "      <th>...</th>\n",
       "      <th>pixel774</th>\n",
       "      <th>pixel775</th>\n",
       "      <th>pixel776</th>\n",
       "      <th>pixel777</th>\n",
       "      <th>pixel778</th>\n",
       "      <th>pixel779</th>\n",
       "      <th>pixel780</th>\n",
       "      <th>pixel781</th>\n",
       "      <th>pixel782</th>\n",
       "      <th>pixel783</th>\n",
       "    </tr>\n",
       "  </thead>\n",
       "  <tbody>\n",
       "    <tr>\n",
       "      <th>0</th>\n",
       "      <td>1</td>\n",
       "      <td>0</td>\n",
       "      <td>0</td>\n",
       "      <td>0</td>\n",
       "      <td>0</td>\n",
       "      <td>0</td>\n",
       "      <td>0</td>\n",
       "      <td>0</td>\n",
       "      <td>0</td>\n",
       "      <td>0</td>\n",
       "      <td>...</td>\n",
       "      <td>0</td>\n",
       "      <td>0</td>\n",
       "      <td>0</td>\n",
       "      <td>0</td>\n",
       "      <td>0</td>\n",
       "      <td>0</td>\n",
       "      <td>0</td>\n",
       "      <td>0</td>\n",
       "      <td>0</td>\n",
       "      <td>0</td>\n",
       "    </tr>\n",
       "    <tr>\n",
       "      <th>1</th>\n",
       "      <td>0</td>\n",
       "      <td>0</td>\n",
       "      <td>0</td>\n",
       "      <td>0</td>\n",
       "      <td>0</td>\n",
       "      <td>0</td>\n",
       "      <td>0</td>\n",
       "      <td>0</td>\n",
       "      <td>0</td>\n",
       "      <td>0</td>\n",
       "      <td>...</td>\n",
       "      <td>0</td>\n",
       "      <td>0</td>\n",
       "      <td>0</td>\n",
       "      <td>0</td>\n",
       "      <td>0</td>\n",
       "      <td>0</td>\n",
       "      <td>0</td>\n",
       "      <td>0</td>\n",
       "      <td>0</td>\n",
       "      <td>0</td>\n",
       "    </tr>\n",
       "    <tr>\n",
       "      <th>2</th>\n",
       "      <td>1</td>\n",
       "      <td>0</td>\n",
       "      <td>0</td>\n",
       "      <td>0</td>\n",
       "      <td>0</td>\n",
       "      <td>0</td>\n",
       "      <td>0</td>\n",
       "      <td>0</td>\n",
       "      <td>0</td>\n",
       "      <td>0</td>\n",
       "      <td>...</td>\n",
       "      <td>0</td>\n",
       "      <td>0</td>\n",
       "      <td>0</td>\n",
       "      <td>0</td>\n",
       "      <td>0</td>\n",
       "      <td>0</td>\n",
       "      <td>0</td>\n",
       "      <td>0</td>\n",
       "      <td>0</td>\n",
       "      <td>0</td>\n",
       "    </tr>\n",
       "    <tr>\n",
       "      <th>3</th>\n",
       "      <td>4</td>\n",
       "      <td>0</td>\n",
       "      <td>0</td>\n",
       "      <td>0</td>\n",
       "      <td>0</td>\n",
       "      <td>0</td>\n",
       "      <td>0</td>\n",
       "      <td>0</td>\n",
       "      <td>0</td>\n",
       "      <td>0</td>\n",
       "      <td>...</td>\n",
       "      <td>0</td>\n",
       "      <td>0</td>\n",
       "      <td>0</td>\n",
       "      <td>0</td>\n",
       "      <td>0</td>\n",
       "      <td>0</td>\n",
       "      <td>0</td>\n",
       "      <td>0</td>\n",
       "      <td>0</td>\n",
       "      <td>0</td>\n",
       "    </tr>\n",
       "    <tr>\n",
       "      <th>4</th>\n",
       "      <td>0</td>\n",
       "      <td>0</td>\n",
       "      <td>0</td>\n",
       "      <td>0</td>\n",
       "      <td>0</td>\n",
       "      <td>0</td>\n",
       "      <td>0</td>\n",
       "      <td>0</td>\n",
       "      <td>0</td>\n",
       "      <td>0</td>\n",
       "      <td>...</td>\n",
       "      <td>0</td>\n",
       "      <td>0</td>\n",
       "      <td>0</td>\n",
       "      <td>0</td>\n",
       "      <td>0</td>\n",
       "      <td>0</td>\n",
       "      <td>0</td>\n",
       "      <td>0</td>\n",
       "      <td>0</td>\n",
       "      <td>0</td>\n",
       "    </tr>\n",
       "  </tbody>\n",
       "</table>\n",
       "<p>5 rows × 785 columns</p>\n",
       "</div>"
      ],
      "text/plain": [
       "   label  pixel0  pixel1  pixel2  pixel3  pixel4  pixel5  pixel6  pixel7  \\\n",
       "0      1       0       0       0       0       0       0       0       0   \n",
       "1      0       0       0       0       0       0       0       0       0   \n",
       "2      1       0       0       0       0       0       0       0       0   \n",
       "3      4       0       0       0       0       0       0       0       0   \n",
       "4      0       0       0       0       0       0       0       0       0   \n",
       "\n",
       "   pixel8  ...  pixel774  pixel775  pixel776  pixel777  pixel778  pixel779  \\\n",
       "0       0  ...         0         0         0         0         0         0   \n",
       "1       0  ...         0         0         0         0         0         0   \n",
       "2       0  ...         0         0         0         0         0         0   \n",
       "3       0  ...         0         0         0         0         0         0   \n",
       "4       0  ...         0         0         0         0         0         0   \n",
       "\n",
       "   pixel780  pixel781  pixel782  pixel783  \n",
       "0         0         0         0         0  \n",
       "1         0         0         0         0  \n",
       "2         0         0         0         0  \n",
       "3         0         0         0         0  \n",
       "4         0         0         0         0  \n",
       "\n",
       "[5 rows x 785 columns]"
      ]
     },
     "execution_count": 3,
     "metadata": {},
     "output_type": "execute_result"
    }
   ],
   "source": [
    "data.head() #preview"
   ]
  },
  {
   "cell_type": "code",
   "execution_count": 4,
   "id": "62bff3d9",
   "metadata": {
    "execution": {
     "iopub.execute_input": "2023-11-18T19:57:34.993282Z",
     "iopub.status.busy": "2023-11-18T19:57:34.992853Z",
     "iopub.status.idle": "2023-11-18T19:57:35.820073Z",
     "shell.execute_reply": "2023-11-18T19:57:35.818695Z"
    },
    "papermill": {
     "duration": 0.836713,
     "end_time": "2023-11-18T19:57:35.823179",
     "exception": false,
     "start_time": "2023-11-18T19:57:34.986466",
     "status": "completed"
    },
    "tags": []
   },
   "outputs": [],
   "source": [
    "#want data as numpy array to manipulate\n",
    "data = np.array(data)\n",
    "m, n = data.shape #m is amount of rows (ex), amount of features +1 (label col) -> dimensions of data\n",
    "np.random.shuffle(data) #shuffling to introduce randomness\n",
    "\n",
    "#setting data aside to avoid over-fitting to training data\n",
    "data_dev = data[0:1000].T #first 1000 ex\n",
    "Y_dev = data_dev[0] #first row -> labels -> target values \n",
    "X_dev = data_dev[1:n]#select the remaining rows ->second row to the last onee\n",
    "X_dev = X_dev / 255. #normalization step\n",
    "\n",
    "data_train = data[1000:m].T #data training on\n",
    "Y_train = data_train[0] #first row in remaining data \n",
    "X_train = data_train[1:n]#remaining rows\n",
    "X_train = X_train/255\n",
    "_,m_train = X_train.shape #getting number of features/ex in data\n",
    "\n"
   ]
  },
  {
   "cell_type": "code",
   "execution_count": 5,
   "id": "f619cf2b",
   "metadata": {
    "execution": {
     "iopub.execute_input": "2023-11-18T19:57:35.842281Z",
     "iopub.status.busy": "2023-11-18T19:57:35.840672Z",
     "iopub.status.idle": "2023-11-18T19:57:35.848698Z",
     "shell.execute_reply": "2023-11-18T19:57:35.847601Z"
    },
    "papermill": {
     "duration": 0.018343,
     "end_time": "2023-11-18T19:57:35.850965",
     "exception": false,
     "start_time": "2023-11-18T19:57:35.832622",
     "status": "completed"
    },
    "tags": []
   },
   "outputs": [
    {
     "data": {
      "text/plain": [
       "(784,)"
      ]
     },
     "execution_count": 5,
     "metadata": {},
     "output_type": "execute_result"
    }
   ],
   "source": [
    "X_train[:,0].shape #select all rows which is \":\", and 0 selects first col -> .shape returns num of elements "
   ]
  },
  {
   "cell_type": "code",
   "execution_count": 6,
   "id": "c160f0e1",
   "metadata": {
    "execution": {
     "iopub.execute_input": "2023-11-18T19:57:35.865863Z",
     "iopub.status.busy": "2023-11-18T19:57:35.865225Z",
     "iopub.status.idle": "2023-11-18T19:57:35.879250Z",
     "shell.execute_reply": "2023-11-18T19:57:35.878438Z"
    },
    "papermill": {
     "duration": 0.023446,
     "end_time": "2023-11-18T19:57:35.881588",
     "exception": false,
     "start_time": "2023-11-18T19:57:35.858142",
     "status": "completed"
    },
    "tags": []
   },
   "outputs": [],
   "source": [
    "#intializing parameters\n",
    "def init_params():\n",
    "    W1 = np.random.rand(10, 784) - 0.5 #intializing weights for layer 1 -> centering around 0 -> break symmetry\n",
    "    b1 = np.random.rand(10, 1) - 0.5 #intializing biases for layer 1\n",
    "    W2 = np.random.rand(10, 10) - 0.5 #intialzing weights for layer 2 \n",
    "    b2 = np.random.rand(10, 1) - 0.5 #intialzing biases for layer 2\n",
    "    return W1, b1, W2, b2\n",
    "def ReLU(Z): #activation function -> introduces non-linearity -> x> 0 = Z\n",
    "    return np.maximum(Z, 0)#go through each element in Z,greater than 0 returns Z,else 0 \n",
    "    \n",
    "def softmax(Z):#activation function -> getting probabilities\n",
    "    return np.exp(Z)/ sum(np.exp(Z)) #e^x for each elemet, np.sum sums through each col, so preserves amount of col, but collapses rows to 1 to get sum\n",
    "\n",
    "def forward_prop(W1,b1,W2,b2,X): #calc linear transformations for each layer\n",
    "    Z1 = W1.dot(X)+ b1 #weighted sums for each neuron\n",
    "    A1 = ReLU(Z1) #apply activation\n",
    "    Z2 = W2.dot(A1)+b2\n",
    "    A2 = softmax(Z2)\n",
    "    return Z1, A1, Z2, A2\n",
    "\n",
    "def one_hot(Y): #converts target labels 'Y' into one-hot encoded format -> each label turned into binary\n",
    "    one_hot_Y = np.zeros((Y.size, Y.max()+1)) #new matrix of zeroes\n",
    "    one_hot_Y[np.arange(Y.size), Y] = 1 #for each row, go to col Y and set to 1\n",
    "    one_hot_Y = one_hot_Y.T #flipping -> need each col to be ex\n",
    "    return one_hot_Y\n",
    "\n",
    "def deriv_ReLU(Z): #binary matrix returned -> indicates if > 0 -> for computing gradient\n",
    "    return Z > 0 #if greater than 0, return 1, else 0\n",
    "    \n",
    "#figuring out how to improve -> how much each parameter contributed to error/loss\n",
    "def backward_prop(Z1, A1, Z2, A2,W1, W2, X, Y):\n",
    "    one_hot_Y = one_hot(Y) #encoding the true outputs into binary form\n",
    "    dZ2 = A2 - one_hot_Y #comparing predicted output to output\n",
    "    dW2 = 1/m * dZ2.dot(A1.T)\n",
    "    db2 = 1/m * np.sum(dZ2)\n",
    "    dZ1 = W2.T.dot(dZ2) * deriv_ReLU(Z1)\n",
    "    dW1 = 1/ m * dZ1.dot(X.T)\n",
    "    db1 = 1/ m * np.sum(dZ1)\n",
    "    return dW1, db1, dW2, db2\n",
    "\n",
    "#updating the params \n",
    "def update_params(W1, b1, W2, b2, dW1, db1, dW2, db2, alpha):\n",
    "        W1 = W1 - alpha * dW1\n",
    "        b1 = b1 - alpha * db1\n",
    "        W2 = W2 - alpha * dW2\n",
    "        b2 = b2 - alpha * db2\n",
    "        return W1, b1, W2, b2\n",
    "\n",
    "    \n",
    "    "
   ]
  },
  {
   "cell_type": "code",
   "execution_count": 7,
   "id": "8f939173",
   "metadata": {
    "execution": {
     "iopub.execute_input": "2023-11-18T19:57:35.893820Z",
     "iopub.status.busy": "2023-11-18T19:57:35.893252Z",
     "iopub.status.idle": "2023-11-18T19:57:35.901715Z",
     "shell.execute_reply": "2023-11-18T19:57:35.900820Z"
    },
    "papermill": {
     "duration": 0.017257,
     "end_time": "2023-11-18T19:57:35.904098",
     "exception": false,
     "start_time": "2023-11-18T19:57:35.886841",
     "status": "completed"
    },
    "tags": []
   },
   "outputs": [],
   "source": [
    "def get_predictions(A2):\n",
    "    return np.argmax(A2,0)\n",
    "\n",
    "def get_accuracy(predictions, Y):\n",
    "    print(predictions, Y)\n",
    "    return np.sum(predictions == Y)/ Y.size\n",
    "\n",
    "def gradient_descent(X, Y, iterations, alpha):\n",
    "    W1, b1, W2, b2 = init_params()\n",
    "    for i in range(iterations):\n",
    "        Z1, A1, Z2, A2 = forward_prop(W1, b1, W2, b2, X)\n",
    "        dW1, db1, dW2, db2 = backward_prop(Z1, A1, Z2, A2, W1, W2, X, Y)\n",
    "        W1, b1, W2, b2 = update_params(W1,b1,W2,b2,dW1,db1,dW2,db2,alpha)\n",
    "        if(i % 10 == 0):\n",
    "            print(\"Iterations: \",i)\n",
    "            print(\"Accuracy: \", get_accuracy(get_predictions(A2), Y))\n",
    "    return W1, b1, W2, b2\n",
    "                  "
   ]
  },
  {
   "cell_type": "code",
   "execution_count": null,
   "id": "6bba0ce2",
   "metadata": {
    "papermill": {
     "duration": 0.00486,
     "end_time": "2023-11-18T19:57:35.914273",
     "exception": false,
     "start_time": "2023-11-18T19:57:35.909413",
     "status": "completed"
    },
    "tags": []
   },
   "outputs": [],
   "source": []
  },
  {
   "cell_type": "code",
   "execution_count": 8,
   "id": "0a1e35b9",
   "metadata": {
    "execution": {
     "iopub.execute_input": "2023-11-18T19:57:35.925903Z",
     "iopub.status.busy": "2023-11-18T19:57:35.925511Z",
     "iopub.status.idle": "2023-11-18T19:58:46.895832Z",
     "shell.execute_reply": "2023-11-18T19:58:46.894258Z"
    },
    "papermill": {
     "duration": 70.981688,
     "end_time": "2023-11-18T19:58:46.900991",
     "exception": false,
     "start_time": "2023-11-18T19:57:35.919303",
     "status": "completed"
    },
    "tags": []
   },
   "outputs": [
    {
     "name": "stdout",
     "output_type": "stream",
     "text": [
      "Iterations:  0\n",
      "[8 5 2 ... 2 4 2] [1 3 9 ... 2 7 6]\n",
      "Accuracy:  0.09482926829268293\n",
      "Iterations:  10\n",
      "[8 6 9 ... 2 9 2] [1 3 9 ... 2 7 6]\n",
      "Accuracy:  0.19507317073170732\n",
      "Iterations:  20\n",
      "[7 6 9 ... 2 9 2] [1 3 9 ... 2 7 6]\n",
      "Accuracy:  0.2656829268292683\n",
      "Iterations:  30\n",
      "[7 8 9 ... 2 7 2] [1 3 9 ... 2 7 6]\n",
      "Accuracy:  0.3131707317073171\n",
      "Iterations:  40\n",
      "[7 8 9 ... 2 7 2] [1 3 9 ... 2 7 6]\n",
      "Accuracy:  0.35197560975609754\n",
      "Iterations:  50\n",
      "[7 8 9 ... 2 9 2] [1 3 9 ... 2 7 6]\n",
      "Accuracy:  0.38426829268292684\n",
      "Iterations:  60\n",
      "[7 3 9 ... 2 7 2] [1 3 9 ... 2 7 6]\n",
      "Accuracy:  0.41317073170731705\n",
      "Iterations:  70\n",
      "[7 3 9 ... 2 7 2] [1 3 9 ... 2 7 6]\n",
      "Accuracy:  0.4414390243902439\n",
      "Iterations:  80\n",
      "[7 3 7 ... 2 7 2] [1 3 9 ... 2 7 6]\n",
      "Accuracy:  0.47917073170731705\n",
      "Iterations:  90\n",
      "[1 3 7 ... 2 7 2] [1 3 9 ... 2 7 6]\n",
      "Accuracy:  0.5337560975609756\n",
      "Iterations:  100\n",
      "[1 3 7 ... 2 7 1] [1 3 9 ... 2 7 6]\n",
      "Accuracy:  0.5874390243902439\n",
      "Iterations:  110\n",
      "[1 3 9 ... 2 7 2] [1 3 9 ... 2 7 6]\n",
      "Accuracy:  0.6171707317073171\n",
      "Iterations:  120\n",
      "[1 3 9 ... 2 7 2] [1 3 9 ... 2 7 6]\n",
      "Accuracy:  0.6393658536585366\n",
      "Iterations:  130\n",
      "[1 3 9 ... 2 7 9] [1 3 9 ... 2 7 6]\n",
      "Accuracy:  0.6565853658536586\n",
      "Iterations:  140\n",
      "[1 3 9 ... 2 7 9] [1 3 9 ... 2 7 6]\n",
      "Accuracy:  0.6694146341463415\n",
      "Iterations:  150\n",
      "[1 3 9 ... 2 7 9] [1 3 9 ... 2 7 6]\n",
      "Accuracy:  0.682609756097561\n",
      "Iterations:  160\n",
      "[1 3 9 ... 2 7 9] [1 3 9 ... 2 7 6]\n",
      "Accuracy:  0.6952195121951219\n",
      "Iterations:  170\n",
      "[1 3 9 ... 2 7 9] [1 3 9 ... 2 7 6]\n",
      "Accuracy:  0.7055365853658536\n",
      "Iterations:  180\n",
      "[1 3 9 ... 2 7 9] [1 3 9 ... 2 7 6]\n",
      "Accuracy:  0.7149024390243902\n",
      "Iterations:  190\n",
      "[1 3 9 ... 2 7 9] [1 3 9 ... 2 7 6]\n",
      "Accuracy:  0.7235121951219512\n",
      "Iterations:  200\n",
      "[1 3 9 ... 2 7 9] [1 3 9 ... 2 7 6]\n",
      "Accuracy:  0.7323414634146341\n",
      "Iterations:  210\n",
      "[1 3 9 ... 2 7 6] [1 3 9 ... 2 7 6]\n",
      "Accuracy:  0.7390975609756097\n",
      "Iterations:  220\n",
      "[1 3 9 ... 2 7 6] [1 3 9 ... 2 7 6]\n",
      "Accuracy:  0.7461463414634146\n",
      "Iterations:  230\n",
      "[1 3 9 ... 2 7 6] [1 3 9 ... 2 7 6]\n",
      "Accuracy:  0.7529024390243902\n",
      "Iterations:  240\n",
      "[1 3 9 ... 2 7 6] [1 3 9 ... 2 7 6]\n",
      "Accuracy:  0.7592439024390244\n",
      "Iterations:  250\n",
      "[1 3 9 ... 2 7 6] [1 3 9 ... 2 7 6]\n",
      "Accuracy:  0.7650243902439025\n",
      "Iterations:  260\n",
      "[1 3 9 ... 2 7 4] [1 3 9 ... 2 7 6]\n",
      "Accuracy:  0.7701463414634147\n",
      "Iterations:  270\n",
      "[1 3 9 ... 2 7 4] [1 3 9 ... 2 7 6]\n",
      "Accuracy:  0.7756341463414634\n",
      "Iterations:  280\n",
      "[1 3 9 ... 2 7 4] [1 3 9 ... 2 7 6]\n",
      "Accuracy:  0.7800243902439025\n",
      "Iterations:  290\n",
      "[1 3 9 ... 2 7 4] [1 3 9 ... 2 7 6]\n",
      "Accuracy:  0.7849024390243903\n",
      "Iterations:  300\n",
      "[1 3 9 ... 2 7 4] [1 3 9 ... 2 7 6]\n",
      "Accuracy:  0.7893414634146342\n",
      "Iterations:  310\n",
      "[1 3 9 ... 2 7 4] [1 3 9 ... 2 7 6]\n",
      "Accuracy:  0.7929512195121952\n",
      "Iterations:  320\n",
      "[1 3 9 ... 2 7 4] [1 3 9 ... 2 7 6]\n",
      "Accuracy:  0.7965853658536586\n",
      "Iterations:  330\n",
      "[1 3 9 ... 2 7 4] [1 3 9 ... 2 7 6]\n",
      "Accuracy:  0.8003658536585366\n",
      "Iterations:  340\n",
      "[1 3 9 ... 2 7 4] [1 3 9 ... 2 7 6]\n",
      "Accuracy:  0.8039756097560976\n",
      "Iterations:  350\n",
      "[1 3 9 ... 2 7 4] [1 3 9 ... 2 7 6]\n",
      "Accuracy:  0.8066341463414635\n",
      "Iterations:  360\n",
      "[1 3 9 ... 2 7 4] [1 3 9 ... 2 7 6]\n",
      "Accuracy:  0.809609756097561\n",
      "Iterations:  370\n",
      "[1 3 9 ... 2 7 4] [1 3 9 ... 2 7 6]\n",
      "Accuracy:  0.8123414634146342\n",
      "Iterations:  380\n",
      "[1 3 9 ... 2 7 4] [1 3 9 ... 2 7 6]\n",
      "Accuracy:  0.8150487804878048\n",
      "Iterations:  390\n",
      "[1 3 9 ... 2 7 4] [1 3 9 ... 2 7 6]\n",
      "Accuracy:  0.8179024390243902\n",
      "Iterations:  400\n",
      "[1 3 9 ... 2 7 4] [1 3 9 ... 2 7 6]\n",
      "Accuracy:  0.8209512195121951\n",
      "Iterations:  410\n",
      "[1 3 9 ... 2 7 6] [1 3 9 ... 2 7 6]\n",
      "Accuracy:  0.8232439024390243\n",
      "Iterations:  420\n",
      "[1 3 9 ... 2 7 6] [1 3 9 ... 2 7 6]\n",
      "Accuracy:  0.8256585365853658\n",
      "Iterations:  430\n",
      "[1 3 9 ... 2 7 6] [1 3 9 ... 2 7 6]\n",
      "Accuracy:  0.828170731707317\n",
      "Iterations:  440\n",
      "[1 3 9 ... 2 7 6] [1 3 9 ... 2 7 6]\n",
      "Accuracy:  0.8304390243902439\n",
      "Iterations:  450\n",
      "[1 3 9 ... 2 7 6] [1 3 9 ... 2 7 6]\n",
      "Accuracy:  0.8328048780487805\n",
      "Iterations:  460\n",
      "[1 3 9 ... 2 7 6] [1 3 9 ... 2 7 6]\n",
      "Accuracy:  0.8350243902439024\n",
      "Iterations:  470\n",
      "[1 3 9 ... 2 7 6] [1 3 9 ... 2 7 6]\n",
      "Accuracy:  0.8375121951219512\n",
      "Iterations:  480\n",
      "[1 3 9 ... 2 7 6] [1 3 9 ... 2 7 6]\n",
      "Accuracy:  0.8392195121951219\n",
      "Iterations:  490\n",
      "[1 3 9 ... 2 7 6] [1 3 9 ... 2 7 6]\n",
      "Accuracy:  0.8408780487804878\n"
     ]
    }
   ],
   "source": [
    "W1, b1 ,W2, b2 = gradient_descent(X_train, Y_train,500,0.1)"
   ]
  },
  {
   "cell_type": "code",
   "execution_count": 9,
   "id": "1f83e5f0",
   "metadata": {
    "execution": {
     "iopub.execute_input": "2023-11-18T19:58:46.946559Z",
     "iopub.status.busy": "2023-11-18T19:58:46.945908Z",
     "iopub.status.idle": "2023-11-18T19:58:46.964772Z",
     "shell.execute_reply": "2023-11-18T19:58:46.963318Z"
    },
    "papermill": {
     "duration": 0.046422,
     "end_time": "2023-11-18T19:58:46.969157",
     "exception": false,
     "start_time": "2023-11-18T19:58:46.922735",
     "status": "completed"
    },
    "tags": []
   },
   "outputs": [],
   "source": [
    "def make_predictions(X, W1, b1, W2, b2):\n",
    "    _, _, _, A2 = forward_prop(W1, b1, W2, b2, X)\n",
    "    predictions = get_predictions(A2)\n",
    "    return predictions\n",
    "\n",
    "def test_prediction(index, W1, b1, W2, b2):\n",
    "    current_image = X_train[:, index, None]\n",
    "    prediction = make_predictions(X_train[:, index, None], W1, b1, W2, b2)\n",
    "    label = Y_train[index]\n",
    "    print(\"Prediction: \", prediction)\n",
    "    print(\"Label: \", label)\n",
    "    \n",
    "    current_image = current_image.reshape((28, 28)) * 255\n",
    "    plt.gray()\n",
    "    plt.imshow(current_image, interpolation='nearest')\n",
    "    plt.show()"
   ]
  },
  {
   "cell_type": "code",
   "execution_count": 10,
   "id": "63ae6814",
   "metadata": {
    "execution": {
     "iopub.execute_input": "2023-11-18T19:58:47.013962Z",
     "iopub.status.busy": "2023-11-18T19:58:47.013442Z",
     "iopub.status.idle": "2023-11-18T19:58:48.009754Z",
     "shell.execute_reply": "2023-11-18T19:58:48.008623Z"
    },
    "papermill": {
     "duration": 1.021347,
     "end_time": "2023-11-18T19:58:48.012336",
     "exception": false,
     "start_time": "2023-11-18T19:58:46.990989",
     "status": "completed"
    },
    "tags": []
   },
   "outputs": [
    {
     "name": "stdout",
     "output_type": "stream",
     "text": [
      "Prediction:  [1]\n",
      "Label:  1\n"
     ]
    },
    {
     "data": {
      "image/png": "[encoded data removed]",
      "text/plain": [
       "<Figure size 640x480 with 1 Axes>"
      ]
     },
     "metadata": {},
     "output_type": "display_data"
    },
    {
     "name": "stdout",
     "output_type": "stream",
     "text": [
      "Prediction:  [3]\n",
      "Label:  3\n"
     ]
    },
    {
     "data": {
      "image/png": "[encoded data removed]",
      "text/plain": [
       "<Figure size 640x480 with 1 Axes>"
      ]
     },
     "metadata": {},
     "output_type": "display_data"
    },
    {
     "name": "stdout",
     "output_type": "stream",
     "text": [
      "Prediction:  [9]\n",
      "Label:  9\n"
     ]
    },
    {
     "data": {
      "image/png": "[encoded data removed]",
      "text/plain": [
       "<Figure size 640x480 with 1 Axes>"
      ]
     },
     "metadata": {},
     "output_type": "display_data"
    },
    {
     "name": "stdout",
     "output_type": "stream",
     "text": [
      "Prediction:  [1]\n",
      "Label:  1\n"
     ]
    },
    {
     "data": {
      "image/png": "[encoded data removed]",
      "text/plain": [
       "<Figure size 640x480 with 1 Axes>"
      ]
     },
     "metadata": {},
     "output_type": "display_data"
    }
   ],
   "source": [
    "test_prediction(0, W1, b1, W2, b2)\n",
    "test_prediction(1, W1, b1, W2, b2)\n",
    "test_prediction(2, W1, b1, W2, b2)\n",
    "test_prediction(3, W1, b1, W2, b2)"
   ]
  }
 ],
 "metadata": {
  "kaggle": {
   "accelerator": "none",
   "dataSources": [
    {
     "databundleVersionId": 861823,
     "sourceId": 3004,
     "sourceType": "competition"
    }
   ],
   "dockerImageVersionId": 30587,
   "isGpuEnabled": false,
   "isInternetEnabled": false,
   "language": "python",
   "sourceType": "notebook"
  },
  "kernelspec": {
   "display_name": "Python 3",
   "language": "python",
   "name": "python3"
  },
  "language_info": {
   "codemirror_mode": {
    "name": "ipython",
    "version": 3
   },
   "file_extension": ".py",
   "mimetype": "text/x-python",
   "name": "python",
   "nbconvert_exporter": "python",
   "pygments_lexer": "ipython3",
   "version": "3.10.12"
  },
  "papermill": {
   "default_parameters": {},
   "duration": 81.544242,
   "end_time": "2023-11-18T19:58:48.546437",
   "environment_variables": {},
   "exception": null,
   "input_path": "__notebook__.ipynb",
   "output_path": "__notebook__.ipynb",
   "parameters": {},
   "start_time": "2023-11-18T19:57:27.002195",
   "version": "2.4.0"
  }
 },
 "nbformat": 4,
 "nbformat_minor": 5
}
